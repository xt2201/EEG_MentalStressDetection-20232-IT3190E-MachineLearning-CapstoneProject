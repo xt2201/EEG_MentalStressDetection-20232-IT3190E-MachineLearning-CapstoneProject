{
 "cells": [
  {
   "cell_type": "markdown",
   "id": "5b7c652c-8ecd-434e-9c79-6c8f47f876f4",
   "metadata": {},
   "source": [
    "Multilayer Perceptron (MLP) Classifier"
   ]
  },
  {
   "cell_type": "markdown",
   "id": "87c9534a-1c1e-4d9e-bf82-9b353d71a6a0",
   "metadata": {},
   "source": [
    "Import libraries"
   ]
  },
  {
   "cell_type": "code",
   "execution_count": 8,
   "id": "8743eb83-d811-42ca-a4fa-b3651547ea02",
   "metadata": {},
   "outputs": [],
   "source": [
    "import numpy as np\n",
    "import pandas as pd\n",
    "import pickle\n",
    "import matplotlib.pyplot as plt\n",
    "\n",
    "from sklearn.model_selection import train_test_split, StratifiedKFold\n",
    "from sklearn.neural_network import MLPClassifier\n",
    "from sklearn.preprocessing import StandardScaler\n",
    "from sklearn.metrics import accuracy_score, classification_report, confusion_matrix, ConfusionMatrixDisplay\n",
    "from sklearn.pipeline import make_pipeline\n",
    "import sys\n",
    "import os\n",
    "\n",
    "# Get the current working directory (which should be the directory containing the Jupyter notebook)\n",
    "current_dir = os.getcwd()\n",
    "\n",
    "# Construct the absolute path to the DataPreprocessing directory\n",
    "data_preprocessing_path = os.path.join(current_dir, '..', 'DataPreprocessing')\n",
    "\n",
    "# Add this path to sys.path\n",
    "sys.path.append(os.path.abspath(data_preprocessing_path))\n",
    "\n",
    "# Import custom preprocessing functions\n",
    "from Preprocessing import filter_data, FeatureExtract"
   ]
  },
  {
   "cell_type": "markdown",
   "id": "021b4aae-bee5-4c40-9796-e0dcdeeea494",
   "metadata": {},
   "source": [
    "Read and Preprocess data"
   ]
  },
  {
   "cell_type": "code",
   "execution_count": 9,
   "id": "e97cdf75-ace4-4edb-a793-ebc5c29fe134",
   "metadata": {},
   "outputs": [],
   "source": [
    "### Read data\n",
    "X = pd.DataFrame()\n",
    "y = np.array([])\n",
    "\n",
    "files = {(\"ThaiBuon.txt\", -1), (\"ThaiVui.txt\", 1), (\"ThaiVui2.txt\", 1), \n",
    "         (\"ThaiCalm2.txt\", 0), (\"ThaiCalm.txt\", 0), (\"BachBuon.txt\", 0), \n",
    "         (\"ThanhfBuon.txt\", -1), (\"ThanhfVui.txt\", 1), (\"BachCalm.txt\", 0), \n",
    "         (\"SonBuon3.txt\", -1), (\"SonVui4.txt\", 1), (\"QuangCalm3.txt\", 0),\n",
    "         (\"SonBuon4.txt\", -1), (\"ThanhfCalm.txt\", 0), (\"ThanhfVui2.txt\", 1), \n",
    "         (\"QuangBuon.txt\", -1)}\n",
    "\n",
    "for filename, label in files:\n",
    "    raw_data = np.loadtxt(\"../CollectedData/new_data/\" + filename)\n",
    "    \n",
    "    # Preprocessing: Filter noise & use Short-time Fourier Transform\n",
    "    raw_data = filter_data(raw_data)\n",
    "    data = FeatureExtract(raw_data, plot=0)\n",
    "    data_df = pd.DataFrame.from_dict(data)\n",
    "    X = pd.concat([X, data_df], ignore_index=True)\n",
    "    y = np.append(y, np.array([label] * data_df.shape[0]))\n",
    "    \n",
    "X = X.values"
   ]
  },
  {
   "cell_type": "markdown",
   "id": "34c81a7e-8150-46c7-9169-649a1efeb81c",
   "metadata": {},
   "source": [
    "Create the MLP Classifier"
   ]
  },
  {
   "cell_type": "code",
   "execution_count": 10,
   "id": "28af48d4-0161-4d9f-8047-41558f84c158",
   "metadata": {},
   "outputs": [],
   "source": [
    "### Create pipeline for standardization of data\n",
    "model = make_pipeline(StandardScaler(), MLPClassifier(solver=\"adam\", activation=\"relu\", hidden_layer_sizes=(50, 50, 50, 50, 50)))"
   ]
  },
  {
   "cell_type": "markdown",
   "id": "5d527f12-471b-44e6-8aac-a0ecc06894a1",
   "metadata": {},
   "source": [
    "Train test split"
   ]
  },
  {
   "cell_type": "code",
   "execution_count": 11,
   "id": "b992072b-8e12-4196-b212-c68238b4170b",
   "metadata": {},
   "outputs": [
    {
     "name": "stdout",
     "output_type": "stream",
     "text": [
      "Train accuracy: 0.979375\n",
      "Test accuracy: 0.9075\n"
     ]
    }
   ],
   "source": [
    "X_train, X_test, y_train, y_test = train_test_split(X, y, stratify=y, test_size=0.2, random_state=42, shuffle=True)\n",
    "model.fit(X_train, y_train)\n",
    "train_score = model.score(X_train, y_train)\n",
    "test_score = model.score(X_test, y_test)\n",
    "print(\"Train accuracy:\", train_score)\n",
    "print(\"Test accuracy:\", test_score)"
   ]
  },
  {
   "cell_type": "code",
   "execution_count": 12,
   "id": "4f129c1f-634d-4cb8-8c8e-ba1411b2e5be",
   "metadata": {},
   "outputs": [
    {
     "name": "stdout",
     "output_type": "stream",
     "text": [
      "              precision    recall  f1-score   support\n",
      "\n",
      "          -1       0.85      0.90      0.87       136\n",
      "           0       0.95      0.99      0.97       144\n",
      "           1       0.92      0.82      0.87       120\n",
      "\n",
      "    accuracy                           0.91       400\n",
      "   macro avg       0.91      0.90      0.90       400\n",
      "weighted avg       0.91      0.91      0.91       400\n",
      "\n"
     ]
    },
    {
     "data": {
      "image/png": "[encoded data removed]",
      "text/plain": [
       "<Figure size 640x480 with 2 Axes>"
      ]
     },
     "metadata": {},
     "output_type": "display_data"
    }
   ],
   "source": [
    "### Statistics and Confusion Matrix display\n",
    "y_pred = model.predict(X_test)\n",
    "print(classification_report(y_test, y_pred, labels=[-1, 0, 1]))\n",
    "disp = ConfusionMatrixDisplay(confusion_matrix(y_test, y_pred), display_labels=[\"Stressed\", \"Calm\", \"Goodmood\"])\n",
    "disp.plot()\n",
    "plt.savefig(\"../Figure/Bach_MLP\")\n",
    "plt.show()"
   ]
  },
  {
   "cell_type": "markdown",
   "id": "1701bff4-485c-469a-8db2-0640e69d6e63",
   "metadata": {},
   "source": [
    "K-Fold cross validation"
   ]
  },
  {
   "cell_type": "code",
   "execution_count": 13,
   "id": "163ac401-b625-4a6b-b691-c732cfb6aa4b",
   "metadata": {},
   "outputs": [
    {
     "name": "stdout",
     "output_type": "stream",
     "text": [
      "Accuracy of folds: [0.895, 0.95, 0.925, 0.94, 0.91, 0.91, 0.9, 0.9, 0.93, 0.91]\n",
      "K-Fold mean accuracy: 0.917\n"
     ]
    }
   ],
   "source": [
    "kf = StratifiedKFold(n_splits=10, shuffle=True)\n",
    "accuracy_list = []\n",
    "for train_index, test_index in kf.split(X, y):\n",
    "    # Split data into training and testing sets\n",
    "    X_train_kf, X_test_kf = X[train_index], X[test_index]\n",
    "    y_train_kf, y_test_kf = y[train_index], y[test_index]\n",
    "    model.fit(X_train_kf, y_train_kf)\n",
    "    \n",
    "    accuracy = model.score(X_test_kf, y_test_kf)\n",
    "    accuracy_list.append(accuracy)\n",
    "    \n",
    "avg_accuracy = np.mean(accuracy_list)\n",
    "print(\"Accuracy of folds:\", accuracy_list)\n",
    "print(\"K-Fold mean accuracy:\", avg_accuracy)"
   ]
  },
  {
   "cell_type": "code",
   "execution_count": 14,
   "id": "ee58f174-5102-44d0-a75a-e301619267b0",
   "metadata": {},
   "outputs": [],
   "source": [
    "### Write model to file\n",
    "model.fit(X, y)\n",
    "pickle.dump(model, open(\"../trained_model/MLPClassifier.h5\", \"wb\"))"
   ]
  },
  {
   "cell_type": "code",
   "execution_count": null,
   "id": "17e8701a-0518-43d0-8222-1b578bbe9669",
   "metadata": {},
   "outputs": [],
   "source": [
    "### Test on new data\n",
    "# model.fit(X, y)\n",
    "# files = {} # tuple(s) of file name and expected label (if any)\n",
    "    \n",
    "# for filename, label in files:\n",
    "#     raw_data = np.loadtxt(\"CollectedData/new_data/\" + filename)\n",
    "#     data_df = pd.DataFrame.from_dict(FeatureExtract(raw_data, plot=0)).values\n",
    "    \n",
    "#     # Scale new data using StandardScaler fit on training data\n",
    "#     data_df = scaler.transform(data_df)\n",
    "#     y_pred = model.predict(data_df)\n",
    "#     print(\"Real-time predictions:\")\n",
    "#     print(y_pred)\n",
    "#     print(\"Accuracy:\", accuracy_score(np.array([label] * y_pred.shape[0]), y_pred))"
   ]
  }
 ],
 "metadata": {
  "kernelspec": {
   "display_name": "Python 3 (ipykernel)",
   "language": "python",
   "name": "python3"
  },
  "language_info": {
   "codemirror_mode": {
    "name": "ipython",
    "version": 3
   },
   "file_extension": ".py",
   "mimetype": "text/x-python",
   "name": "python",
   "nbconvert_exporter": "python",
   "pygments_lexer": "ipython3",
   "version": "3.12.3"
  }
 },
 "nbformat": 4,
 "nbformat_minor": 5
}
